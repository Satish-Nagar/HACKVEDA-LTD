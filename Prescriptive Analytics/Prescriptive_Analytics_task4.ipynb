{
 "cells": [
  {
   "cell_type": "code",
   "execution_count": 1,
   "id": "390aaedc-b7ad-4867-94c8-bf9ff1737d2e",
   "metadata": {},
   "outputs": [],
   "source": [
    "# Import required libraries\n",
    "import pandas as pd\n",
    "import numpy as np\n",
    "import matplotlib.pyplot as plt\n",
    "from scipy.optimize import linprog, linprog\n",
    "import seaborn as sns\n"
   ]
  },
  {
   "cell_type": "code",
   "execution_count": 2,
   "id": "3c1e9622-f1f1-4f3d-ac67-4ba617c45a92",
   "metadata": {},
   "outputs": [
    {
     "data": {
      "text/html": [
       "<div>\n",
       "<style scoped>\n",
       "    .dataframe tbody tr th:only-of-type {\n",
       "        vertical-align: middle;\n",
       "    }\n",
       "\n",
       "    .dataframe tbody tr th {\n",
       "        vertical-align: top;\n",
       "    }\n",
       "\n",
       "    .dataframe thead th {\n",
       "        text-align: right;\n",
       "    }\n",
       "</style>\n",
       "<table border=\"1\" class=\"dataframe\">\n",
       "  <thead>\n",
       "    <tr style=\"text-align: right;\">\n",
       "      <th></th>\n",
       "      <th>Product_Code</th>\n",
       "      <th>Warehouse</th>\n",
       "      <th>Product_Category</th>\n",
       "      <th>Date</th>\n",
       "      <th>Order_Demand</th>\n",
       "    </tr>\n",
       "  </thead>\n",
       "  <tbody>\n",
       "    <tr>\n",
       "      <th>0</th>\n",
       "      <td>Product_0993</td>\n",
       "      <td>Whse_J</td>\n",
       "      <td>Category_028</td>\n",
       "      <td>2012/7/27</td>\n",
       "      <td>100</td>\n",
       "    </tr>\n",
       "    <tr>\n",
       "      <th>1</th>\n",
       "      <td>Product_0979</td>\n",
       "      <td>Whse_J</td>\n",
       "      <td>Category_028</td>\n",
       "      <td>2012/1/19</td>\n",
       "      <td>500</td>\n",
       "    </tr>\n",
       "    <tr>\n",
       "      <th>2</th>\n",
       "      <td>Product_0979</td>\n",
       "      <td>Whse_J</td>\n",
       "      <td>Category_028</td>\n",
       "      <td>2012/2/3</td>\n",
       "      <td>500</td>\n",
       "    </tr>\n",
       "    <tr>\n",
       "      <th>3</th>\n",
       "      <td>Product_0979</td>\n",
       "      <td>Whse_J</td>\n",
       "      <td>Category_028</td>\n",
       "      <td>2012/2/9</td>\n",
       "      <td>500</td>\n",
       "    </tr>\n",
       "    <tr>\n",
       "      <th>4</th>\n",
       "      <td>Product_0979</td>\n",
       "      <td>Whse_J</td>\n",
       "      <td>Category_028</td>\n",
       "      <td>2012/3/2</td>\n",
       "      <td>500</td>\n",
       "    </tr>\n",
       "    <tr>\n",
       "      <th>5</th>\n",
       "      <td>Product_0979</td>\n",
       "      <td>Whse_J</td>\n",
       "      <td>Category_028</td>\n",
       "      <td>2012/4/19</td>\n",
       "      <td>500</td>\n",
       "    </tr>\n",
       "    <tr>\n",
       "      <th>6</th>\n",
       "      <td>Product_0979</td>\n",
       "      <td>Whse_J</td>\n",
       "      <td>Category_028</td>\n",
       "      <td>2012/6/5</td>\n",
       "      <td>500</td>\n",
       "    </tr>\n",
       "    <tr>\n",
       "      <th>7</th>\n",
       "      <td>Product_0979</td>\n",
       "      <td>Whse_J</td>\n",
       "      <td>Category_028</td>\n",
       "      <td>2012/6/27</td>\n",
       "      <td>500</td>\n",
       "    </tr>\n",
       "    <tr>\n",
       "      <th>8</th>\n",
       "      <td>Product_0979</td>\n",
       "      <td>Whse_J</td>\n",
       "      <td>Category_028</td>\n",
       "      <td>2012/7/23</td>\n",
       "      <td>500</td>\n",
       "    </tr>\n",
       "    <tr>\n",
       "      <th>9</th>\n",
       "      <td>Product_0979</td>\n",
       "      <td>Whse_J</td>\n",
       "      <td>Category_028</td>\n",
       "      <td>2012/8/29</td>\n",
       "      <td>500</td>\n",
       "    </tr>\n",
       "  </tbody>\n",
       "</table>\n",
       "</div>"
      ],
      "text/plain": [
       "   Product_Code Warehouse Product_Category       Date Order_Demand\n",
       "0  Product_0993    Whse_J     Category_028  2012/7/27         100 \n",
       "1  Product_0979    Whse_J     Category_028  2012/1/19         500 \n",
       "2  Product_0979    Whse_J     Category_028   2012/2/3         500 \n",
       "3  Product_0979    Whse_J     Category_028   2012/2/9         500 \n",
       "4  Product_0979    Whse_J     Category_028   2012/3/2         500 \n",
       "5  Product_0979    Whse_J     Category_028  2012/4/19         500 \n",
       "6  Product_0979    Whse_J     Category_028   2012/6/5         500 \n",
       "7  Product_0979    Whse_J     Category_028  2012/6/27         500 \n",
       "8  Product_0979    Whse_J     Category_028  2012/7/23         500 \n",
       "9  Product_0979    Whse_J     Category_028  2012/8/29         500 "
      ]
     },
     "execution_count": 2,
     "metadata": {},
     "output_type": "execute_result"
    }
   ],
   "source": [
    "# Load the dataset\n",
    "file_path = r\"C:\\Users\\sn408\\Downloads\\archive (2)\\Historical Product Demand.csv\"\n",
    "data = pd.read_csv(file_path)\n",
    "\n",
    "# Display the first 10 rows\n",
    "data.head(10)\n"
   ]
  },
  {
   "cell_type": "code",
   "execution_count": 5,
   "id": "b9d0bf5e-a3a3-4265-8b8d-5b2a85f41365",
   "metadata": {},
   "outputs": [
    {
     "name": "stdout",
     "output_type": "stream",
     "text": [
      "<class 'pandas.core.frame.DataFrame'>\n",
      "RangeIndex: 1048575 entries, 0 to 1048574\n",
      "Data columns (total 5 columns):\n",
      " #   Column            Non-Null Count    Dtype \n",
      "---  ------            --------------    ----- \n",
      " 0   Product_Code      1048575 non-null  object\n",
      " 1   Warehouse         1048575 non-null  object\n",
      " 2   Product_Category  1048575 non-null  object\n",
      " 3   Date              1037336 non-null  object\n",
      " 4   Order_Demand      1048575 non-null  object\n",
      "dtypes: object(5)\n",
      "memory usage: 40.0+ MB\n"
     ]
    }
   ],
   "source": [
    "# Display dataset information\n",
    "data.info()\n"
   ]
  },
  {
   "cell_type": "code",
   "execution_count": 6,
   "id": "05ae6b6b-2f06-40dc-b854-5aec6ddbe307",
   "metadata": {},
   "outputs": [
    {
     "data": {
      "text/html": [
       "<div>\n",
       "<style scoped>\n",
       "    .dataframe tbody tr th:only-of-type {\n",
       "        vertical-align: middle;\n",
       "    }\n",
       "\n",
       "    .dataframe tbody tr th {\n",
       "        vertical-align: top;\n",
       "    }\n",
       "\n",
       "    .dataframe thead th {\n",
       "        text-align: right;\n",
       "    }\n",
       "</style>\n",
       "<table border=\"1\" class=\"dataframe\">\n",
       "  <thead>\n",
       "    <tr style=\"text-align: right;\">\n",
       "      <th></th>\n",
       "      <th>Product_Code</th>\n",
       "      <th>Warehouse</th>\n",
       "      <th>Product_Category</th>\n",
       "      <th>Date</th>\n",
       "      <th>Order_Demand</th>\n",
       "    </tr>\n",
       "  </thead>\n",
       "  <tbody>\n",
       "    <tr>\n",
       "      <th>count</th>\n",
       "      <td>1048575</td>\n",
       "      <td>1048575</td>\n",
       "      <td>1048575</td>\n",
       "      <td>1037336</td>\n",
       "      <td>1048575</td>\n",
       "    </tr>\n",
       "    <tr>\n",
       "      <th>unique</th>\n",
       "      <td>2160</td>\n",
       "      <td>4</td>\n",
       "      <td>33</td>\n",
       "      <td>1729</td>\n",
       "      <td>3828</td>\n",
       "    </tr>\n",
       "    <tr>\n",
       "      <th>top</th>\n",
       "      <td>Product_1359</td>\n",
       "      <td>Whse_J</td>\n",
       "      <td>Category_019</td>\n",
       "      <td>2013/9/27</td>\n",
       "      <td>1000</td>\n",
       "    </tr>\n",
       "    <tr>\n",
       "      <th>freq</th>\n",
       "      <td>16936</td>\n",
       "      <td>764447</td>\n",
       "      <td>481099</td>\n",
       "      <td>2075</td>\n",
       "      <td>112682</td>\n",
       "    </tr>\n",
       "  </tbody>\n",
       "</table>\n",
       "</div>"
      ],
      "text/plain": [
       "        Product_Code Warehouse Product_Category       Date Order_Demand\n",
       "count        1048575   1048575          1048575    1037336      1048575\n",
       "unique          2160         4               33       1729         3828\n",
       "top     Product_1359    Whse_J     Category_019  2013/9/27        1000 \n",
       "freq           16936    764447           481099       2075       112682"
      ]
     },
     "execution_count": 6,
     "metadata": {},
     "output_type": "execute_result"
    }
   ],
   "source": [
    "data.describe()\n"
   ]
  },
  {
   "cell_type": "code",
   "execution_count": 7,
   "id": "3c5abed2-cf36-4fb0-809e-5c90761c2876",
   "metadata": {},
   "outputs": [
    {
     "data": {
      "text/plain": [
       "Product_Code            0\n",
       "Warehouse               0\n",
       "Product_Category        0\n",
       "Date                11239\n",
       "Order_Demand            0\n",
       "dtype: int64"
      ]
     },
     "execution_count": 7,
     "metadata": {},
     "output_type": "execute_result"
    }
   ],
   "source": [
    "# Check for missing values\n",
    "data.isnull().sum()"
   ]
  },
  {
   "cell_type": "code",
   "execution_count": 8,
   "id": "846d1654-6fd3-40a1-874a-8b14362d4926",
   "metadata": {},
   "outputs": [
    {
     "data": {
      "text/html": [
       "<div>\n",
       "<style scoped>\n",
       "    .dataframe tbody tr th:only-of-type {\n",
       "        vertical-align: middle;\n",
       "    }\n",
       "\n",
       "    .dataframe tbody tr th {\n",
       "        vertical-align: top;\n",
       "    }\n",
       "\n",
       "    .dataframe thead th {\n",
       "        text-align: right;\n",
       "    }\n",
       "</style>\n",
       "<table border=\"1\" class=\"dataframe\">\n",
       "  <thead>\n",
       "    <tr style=\"text-align: right;\">\n",
       "      <th></th>\n",
       "      <th>Product_Code</th>\n",
       "      <th>Warehouse</th>\n",
       "      <th>Product_Category</th>\n",
       "      <th>Date</th>\n",
       "      <th>Order_Demand</th>\n",
       "    </tr>\n",
       "  </thead>\n",
       "  <tbody>\n",
       "    <tr>\n",
       "      <th>0</th>\n",
       "      <td>Product_0993</td>\n",
       "      <td>Whse_J</td>\n",
       "      <td>Category_028</td>\n",
       "      <td>2012-07-27</td>\n",
       "      <td>100</td>\n",
       "    </tr>\n",
       "    <tr>\n",
       "      <th>1</th>\n",
       "      <td>Product_0979</td>\n",
       "      <td>Whse_J</td>\n",
       "      <td>Category_028</td>\n",
       "      <td>2012-01-19</td>\n",
       "      <td>500</td>\n",
       "    </tr>\n",
       "    <tr>\n",
       "      <th>2</th>\n",
       "      <td>Product_0979</td>\n",
       "      <td>Whse_J</td>\n",
       "      <td>Category_028</td>\n",
       "      <td>2012-02-03</td>\n",
       "      <td>500</td>\n",
       "    </tr>\n",
       "    <tr>\n",
       "      <th>3</th>\n",
       "      <td>Product_0979</td>\n",
       "      <td>Whse_J</td>\n",
       "      <td>Category_028</td>\n",
       "      <td>2012-02-09</td>\n",
       "      <td>500</td>\n",
       "    </tr>\n",
       "    <tr>\n",
       "      <th>4</th>\n",
       "      <td>Product_0979</td>\n",
       "      <td>Whse_J</td>\n",
       "      <td>Category_028</td>\n",
       "      <td>2012-03-02</td>\n",
       "      <td>500</td>\n",
       "    </tr>\n",
       "  </tbody>\n",
       "</table>\n",
       "</div>"
      ],
      "text/plain": [
       "   Product_Code Warehouse Product_Category       Date Order_Demand\n",
       "0  Product_0993    Whse_J     Category_028 2012-07-27         100 \n",
       "1  Product_0979    Whse_J     Category_028 2012-01-19         500 \n",
       "2  Product_0979    Whse_J     Category_028 2012-02-03         500 \n",
       "3  Product_0979    Whse_J     Category_028 2012-02-09         500 \n",
       "4  Product_0979    Whse_J     Category_028 2012-03-02         500 "
      ]
     },
     "execution_count": 8,
     "metadata": {},
     "output_type": "execute_result"
    }
   ],
   "source": [
    "# Convert 'Date' to datetime format\n",
    "data['Date'] = pd.to_datetime(data['Date'], errors='coerce')\n",
    "\n",
    "# Display the first few rows to confirm the change\n",
    "data.head()\n"
   ]
  },
  {
   "cell_type": "code",
   "execution_count": 9,
   "id": "745f2cd4-0ec0-47a1-af8f-78d62464e1ce",
   "metadata": {},
   "outputs": [
    {
     "data": {
      "text/plain": [
       "0"
      ]
     },
     "execution_count": 9,
     "metadata": {},
     "output_type": "execute_result"
    }
   ],
   "source": [
    "# Clean 'Order_Demand' column by removing non-numeric characters\n",
    "data['Order_Demand'] = data['Order_Demand'].str.replace('[^0-9.-]', '', regex=True).astype(float)\n",
    "\n",
    "# Check for NaN values in 'Order_Demand' after conversion\n",
    "data['Order_Demand'].isnull().sum()\n"
   ]
  },
  {
   "cell_type": "code",
   "execution_count": 10,
   "id": "f67cb5d6-250a-4170-9a0a-b49a7f4ec66f",
   "metadata": {},
   "outputs": [
    {
     "name": "stderr",
     "output_type": "stream",
     "text": [
      "C:\\Users\\sn408\\AppData\\Local\\Temp\\ipykernel_4248\\932731618.py:2: FutureWarning: A value is trying to be set on a copy of a DataFrame or Series through chained assignment using an inplace method.\n",
      "The behavior will change in pandas 3.0. This inplace method will never work because the intermediate object on which we are setting values always behaves as a copy.\n",
      "\n",
      "For example, when doing 'df[col].method(value, inplace=True)', try using 'df.method({col: value}, inplace=True)' or df[col] = df[col].method(value) instead, to perform the operation inplace on the original object.\n",
      "\n",
      "\n",
      "  data['Order_Demand'].fillna(0, inplace=True)\n"
     ]
    },
    {
     "data": {
      "text/plain": [
       "0"
      ]
     },
     "execution_count": 10,
     "metadata": {},
     "output_type": "execute_result"
    }
   ],
   "source": [
    "# Fill missing values in 'Order_Demand' with 0\n",
    "data['Order_Demand'].fillna(0, inplace=True)\n",
    "\n",
    "# Confirm no missing values remain\n",
    "data['Order_Demand'].isnull().sum()\n"
   ]
  },
  {
   "cell_type": "code",
   "execution_count": 13,
   "id": "d0cbe12d-b29c-4e4c-9b1c-1f3bcdbe72e3",
   "metadata": {},
   "outputs": [
    {
     "data": {
      "text/plain": [
       "<Axes: xlabel='Warehouse', ylabel='count'>"
      ]
     },
     "execution_count": 13,
     "metadata": {},
     "output_type": "execute_result"
    },
    {
     "data": {
      "image/png": "[encoded data removed]",
      "text/plain": [
       "<Figure size 640x480 with 1 Axes>"
      ]
     },
     "metadata": {},
     "output_type": "display_data"
    }
   ],
   "source": [
    "sns.countplot(x='Warehouse' , data = data)"
   ]
  },
  {
   "cell_type": "code",
   "execution_count": 11,
   "id": "92eb7033-27b3-4cbc-80cd-524f81dddbf0",
   "metadata": {},
   "outputs": [
    {
     "data": {
      "text/plain": [
       "Warehouse\n",
       "Whse_A    1.590368e+08\n",
       "Whse_C    5.850714e+08\n",
       "Whse_J    3.363200e+09\n",
       "Whse_S    1.038025e+09\n",
       "Name: Order_Demand, dtype: float64"
      ]
     },
     "execution_count": 11,
     "metadata": {},
     "output_type": "execute_result"
    }
   ],
   "source": [
    "# Group by 'Warehouse' and calculate total demand\n",
    "Warehouse_Demand = data.groupby('Warehouse')['Order_Demand'].sum()\n",
    "\n",
    "# Display the total demand for each warehouse\n",
    "Warehouse_Demand\n"
   ]
  },
  {
   "cell_type": "code",
   "execution_count": 12,
   "id": "ca16daa1-f09a-4341-be00-65bdb977a8e5",
   "metadata": {},
   "outputs": [
    {
     "name": "stderr",
     "output_type": "stream",
     "text": [
      "C:\\Users\\sn408\\AppData\\Local\\Temp\\ipykernel_4248\\3360304921.py:3: FutureWarning: \n",
      "\n",
      "Passing `palette` without assigning `hue` is deprecated and will be removed in v0.14.0. Assign the `x` variable to `hue` and set `legend=False` for the same effect.\n",
      "\n",
      "  sns.barplot(x=Warehouse_Demand.index, y=Warehouse_Demand.values, palette='viridis')\n"
     ]
    },
    {
     "data": {
      "image/png": "[encoded data removed]",
      "text/plain": [
       "<Figure size 800x600 with 1 Axes>"
      ]
     },
     "metadata": {},
     "output_type": "display_data"
    }
   ],
   "source": [
    "# Create a bar plot for total order demand by warehouse\n",
    "plt.figure(figsize=(8, 6))\n",
    "sns.barplot(x=Warehouse_Demand.index, y=Warehouse_Demand.values, palette='viridis')\n",
    "plt.title('Total Order Demand by Warehouse', fontsize=16)\n",
    "plt.xlabel('Warehouse', fontsize=12)\n",
    "plt.ylabel('Total Order Demand', fontsize=12)\n",
    "plt.xticks(rotation=45)\n",
    "plt.tight_layout()\n",
    "plt.show()\n"
   ]
  },
  {
   "cell_type": "code",
   "execution_count": 14,
   "id": "57a8d9c8-4041-4b68-9df3-8bb4b136094a",
   "metadata": {},
   "outputs": [
    {
     "data": {
      "text/plain": [
       "4906.976917244832"
      ]
     },
     "execution_count": 14,
     "metadata": {},
     "output_type": "execute_result"
    }
   ],
   "source": [
    "#avg demand \n",
    "demand = data['Order_Demand'].mean()\n",
    "demand"
   ]
  },
  {
   "cell_type": "code",
   "execution_count": 15,
   "id": "10df6cff-a8e3-4898-8bfe-22c3a274aa0d",
   "metadata": {},
   "outputs": [
    {
     "data": {
      "text/plain": [
       "5145333321.0"
      ]
     },
     "execution_count": 15,
     "metadata": {},
     "output_type": "execute_result"
    }
   ],
   "source": [
    "#total demand \n",
    "initial_inventory = data['Order_Demand'].sum()\n",
    "initial_inventory"
   ]
  },
  {
   "cell_type": "code",
   "execution_count": 16,
   "id": "50d61896-6e82-4e13-9bf8-3911cd144c17",
   "metadata": {},
   "outputs": [
    {
     "data": {
      "text/plain": [
       "10290666642.0"
      ]
     },
     "execution_count": 16,
     "metadata": {},
     "output_type": "execute_result"
    }
   ],
   "source": [
    "#max_inventory\n",
    "max_inventory = initial_inventory*2\n",
    "max_inventory"
   ]
  },
  {
   "cell_type": "code",
   "execution_count": 17,
   "id": "a5540c9b-bda3-41a8-bcc1-eb38f5544f3a",
   "metadata": {},
   "outputs": [
    {
     "name": "stdout",
     "output_type": "stream",
     "text": [
      "[110]\n"
     ]
    }
   ],
   "source": [
    "# Example holding cost per unit per day\n",
    "holding_cost = 2\n",
    "\n",
    "# Example ordering cost per order\n",
    "ordering_cost = 50\n",
    "\n",
    "# Number of days to hold inventory\n",
    "holding_days = 30\n",
    "\n",
    "# Cost function\n",
    "c = [holding_cost * holding_days + ordering_cost]\n",
    "print(c)\n",
    "\n",
    "\n"
   ]
  },
  {
   "cell_type": "code",
   "execution_count": 18,
   "id": "d8ddba73-0d35-47a0-b59a-2e5f5063d7af",
   "metadata": {},
   "outputs": [],
   "source": [
    "# Constraints\n",
    "A = [[-1], [1]]  # This constraint ensures that the order quantity x is at least equal to the average demand.\n",
    "B = [-demand, max_inventory - initial_inventory]  # This ensures x does not exceed available capacity.\n",
    "bounds = [(0, None)]  # This specifies that the order quantity x cannot be negative."
   ]
  },
  {
   "cell_type": "code",
   "execution_count": 19,
   "id": "4d3324bb-c866-418a-ac85-be3d5e394f6c",
   "metadata": {},
   "outputs": [
    {
     "data": {
      "text/plain": [
       "        message: Optimization terminated successfully. (HiGHS Status 7: Optimal)\n",
       "        success: True\n",
       "         status: 0\n",
       "            fun: 539767.4608969316\n",
       "              x: [ 4.907e+03]\n",
       "            nit: 0\n",
       "          lower:  residual: [ 4.907e+03]\n",
       "                 marginals: [ 0.000e+00]\n",
       "          upper:  residual: [       inf]\n",
       "                 marginals: [ 0.000e+00]\n",
       "          eqlin:  residual: []\n",
       "                 marginals: []\n",
       "        ineqlin:  residual: [ 0.000e+00  5.145e+09]\n",
       "                 marginals: [-1.100e+02 -0.000e+00]\n",
       " mip_node_count: 0\n",
       " mip_dual_bound: 0.0\n",
       "        mip_gap: 0.0"
      ]
     },
     "execution_count": 19,
     "metadata": {},
     "output_type": "execute_result"
    }
   ],
   "source": [
    "# SOLVING OPTIMIZATION PROBLEM \n",
    "x = linprog(c,A_ub=A,b_ub=B, bounds= bounds)\n",
    "x"
   ]
  },
  {
   "cell_type": "code",
   "execution_count": 38,
   "id": "904391f9-fc30-4963-8b05-8455bd9aa231",
   "metadata": {},
   "outputs": [
    {
     "data": {
      "text/plain": [
       "4906.976917244832"
      ]
     },
     "execution_count": 38,
     "metadata": {},
     "output_type": "execute_result"
    }
   ],
   "source": [
    "#optimal order quanity \n",
    "optimal_order_quantity = x.x[0]\n",
    "total_cost = x.fun\n",
    "optimal_order_quanity \n"
   ]
  },
  {
   "cell_type": "code",
   "execution_count": 22,
   "id": "8cee1eee-6938-42c6-97c4-de7d2c4c9d80",
   "metadata": {},
   "outputs": [],
   "source": [
    "#SENSITIVISENSITIVITY ANALYSIS\n",
    "#20% increase in demand \n",
    "demand_change = 1.2\n",
    "#20% decrease in demand \n",
    "holding_cost_change = 0.8\n",
    "#50% increase in demand \n",
    "lead_time_change=1.5"
   ]
  },
  {
   "cell_type": "code",
   "execution_count": 24,
   "id": "33509166-6ac8-4662-88d7-37290b524a63",
   "metadata": {},
   "outputs": [],
   "source": [
    "new_demand=demand*demand_change\n",
    "new_holding_cost=holding_cost*holding_cost_change\n",
    "new_lead_time=holding_days*holding_cost_change"
   ]
  },
  {
   "cell_type": "code",
   "execution_count": 26,
   "id": "c1ac9e76-f021-4725-a19a-009b2e8d3a72",
   "metadata": {},
   "outputs": [
    {
     "data": {
      "text/plain": [
       "5888.372300693799"
      ]
     },
     "execution_count": 26,
     "metadata": {},
     "output_type": "execute_result"
    }
   ],
   "source": [
    "new_demand"
   ]
  },
  {
   "cell_type": "code",
   "execution_count": 27,
   "id": "8f98927f-be6c-4127-b092-42988b506264",
   "metadata": {},
   "outputs": [
    {
     "data": {
      "text/plain": [
       "1.6"
      ]
     },
     "execution_count": 27,
     "metadata": {},
     "output_type": "execute_result"
    }
   ],
   "source": [
    "new_holding_cost"
   ]
  },
  {
   "cell_type": "code",
   "execution_count": 28,
   "id": "06451a19-9159-4c9a-966c-b7efcd370f93",
   "metadata": {},
   "outputs": [
    {
     "data": {
      "text/plain": [
       "24.0"
      ]
     },
     "execution_count": 28,
     "metadata": {},
     "output_type": "execute_result"
    }
   ],
   "source": [
    "new_lead_time"
   ]
  },
  {
   "cell_type": "code",
   "execution_count": 29,
   "id": "06168c08-1aa7-4e7e-8896-813ff0826178",
   "metadata": {},
   "outputs": [],
   "source": [
    "# Define the sensitivity analysis function\n",
    "def sensitivity_analysis(demand_change, holding_cost_change, lead_time_change):\n",
    "    # Update the demand, holding cost, and lead time based on the changes\n",
    "    new_demand = demand * demand_change\n",
    "    new_holding_cost = holding_cost * holding_cost_change\n",
    "    new_lead_time = holding_days * lead_time_change\n",
    "\n",
    "    # Update the cost function\n",
    "    new_c = [new_holding_cost * new_lead_time + ordering_cost]\n",
    "\n",
    "    # Update constraints\n",
    "    new_b = [-new_demand, max_inventory - initial_inventory]\n",
    "    \n",
    "    # Perform linear programming optimization\n",
    "    new_x = linprog(new_c, A_ub=A, b_ub=new_b, bounds=bounds)\n",
    "    new_optimal_order_quantity = new_x.x[0]\n",
    "    new_total_cost = new_x.fun\n",
    "\n",
    "    # Print results\n",
    "    print(\"New optimal order quantity:\", new_optimal_order_quantity)\n",
    "    print(\"New total cost:\", new_total_cost)\n",
    "\n",
    "    # Return the results\n",
    "    return new_optimal_order_quantity, new_total_cost\n",
    "\n"
   ]
  },
  {
   "cell_type": "code",
   "execution_count": 30,
   "id": "f15706d7-8201-4bb0-aad2-c1e8a8fc9b1f",
   "metadata": {},
   "outputs": [
    {
     "name": "stdout",
     "output_type": "stream",
     "text": [
      "New optimal order quantity: 5888.372300693799\n",
      "New total cost: 718381.4206846434\n"
     ]
    }
   ],
   "source": [
    "# Example usage of the function\n",
    "optimal_order_quantity_sensitivity, total_cost_sensitivity = sensitivity_analysis(demand_change, holding_cost_change, lead_time_change)\n"
   ]
  },
  {
   "cell_type": "code",
   "execution_count": 31,
   "id": "ed9a10af-c772-43aa-957b-0b07ce908d33",
   "metadata": {},
   "outputs": [
    {
     "name": "stdout",
     "output_type": "stream",
     "text": [
      "Sensitivity Analysis:\n",
      "Optimal Order Quantity: 5888.372300693799\n",
      "Total Cost: 718381.4206846434\n"
     ]
    }
   ],
   "source": [
    "# Display sensitivity analysis results\n",
    "print(\"Sensitivity Analysis:\")\n",
    "print(\"Optimal Order Quantity:\", optimal_order_quantity_sensitivity)\n",
    "print(\"Total Cost:\", total_cost_sensitivity)\n"
   ]
  },
  {
   "cell_type": "code",
   "execution_count": 32,
   "id": "380f1f21-9fa8-493b-8304-2accdcf1e32e",
   "metadata": {},
   "outputs": [
    {
     "data": {
      "image/png": "[encoded data removed]",
      "text/plain": [
       "<Figure size 640x480 with 1 Axes>"
      ]
     },
     "metadata": {},
     "output_type": "display_data"
    }
   ],
   "source": [
    "# Define labels for the bar chart\n",
    "labels = [\"Original\", \"Sensitivity\"]\n",
    "\n",
    "# Total costs for original and sensitivity analysis\n",
    "total_costs = [total_cost, total_cost_sensitivity]\n",
    "\n",
    "# Create a bar chart\n",
    "plt.bar(labels, total_costs, color=['pink', 'purple'])\n",
    "\n",
    "# Label the axes and title\n",
    "plt.xlabel(\"Scenario\")\n",
    "plt.ylabel(\"Total Cost\")\n",
    "plt.title(\"Total Cost Comparison\")\n",
    "\n",
    "# Display the plot\n",
    "plt.show()\n"
   ]
  },
  {
   "cell_type": "code",
   "execution_count": 40,
   "id": "1f7928f1-3b39-4090-a78f-b6d9a46d1483",
   "metadata": {},
   "outputs": [
    {
     "data": {
      "image/png": "[encoded data removed]",
      "text/plain": [
       "<Figure size 640x480 with 1 Axes>"
      ]
     },
     "metadata": {},
     "output_type": "display_data"
    }
   ],
   "source": [
    "labels = [\"Original\", \"Sensitivity\"]\n",
    "optimal_orders = [optimal_order_quantity, optimal_order_quantity_sensitivity]\n",
    "\n",
    "# Create bar chart\n",
    "plt.bar(labels, optimal_orders, color=['pink', 'purple'])\n",
    "plt.xlabel(\"Scenario\")\n",
    "plt.ylabel(\"Optimal Orders\")\n",
    "plt.title(\"Optimal Order Comparison\")\n",
    "\n",
    "# Call plt.show() to display the chart\n",
    "plt.show()\n"
   ]
  },
  {
   "cell_type": "code",
   "execution_count": null,
   "id": "970e112d-a1b4-4961-8015-7a8fdaa1a290",
   "metadata": {},
   "outputs": [],
   "source": []
  }
 ],
 "metadata": {
  "kernelspec": {
   "display_name": "Python 3 (ipykernel)",
   "language": "python",
   "name": "python3"
  },
  "language_info": {
   "codemirror_mode": {
    "name": "ipython",
    "version": 3
   },
   "file_extension": ".py",
   "mimetype": "text/x-python",
   "name": "python",
   "nbconvert_exporter": "python",
   "pygments_lexer": "ipython3",
   "version": "3.12.7"
  }
 },
 "nbformat": 4,
 "nbformat_minor": 5
}
